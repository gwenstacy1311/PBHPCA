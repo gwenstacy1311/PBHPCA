{
  "nbformat": 4,
  "nbformat_minor": 0,
  "metadata": {
    "colab": {
      "provenance": [],
      "gpuType": "T4"
    },
    "kernelspec": {
      "name": "python3",
      "display_name": "Python 3"
    },
    "language_info": {
      "name": "python"
    },
    "accelerator": "GPU"
  },
  "cells": [
    {
      "cell_type": "code",
      "execution_count": 2,
      "metadata": {
        "id": "bSKP3uIL-CNv"
      },
      "outputs": [],
      "source": [
        "import pandas as pd\n",
        "import numpy as np\n",
        "import matplotlib.pyplot as plt\n",
        "import tensorflow as tf\n",
        "from tensorflow.keras.models import Sequential\n",
        "from tensorflow.keras.layers import Dense\n",
        "from tensorflow.keras.layers import SimpleRNN, LSTM\n",
        "from tensorflow.keras.layers import Dropout\n",
        "from sklearn.preprocessing import MinMaxScaler"
      ]
    },
    {
      "cell_type": "code",
      "source": [
        "df = pd.read_csv('/content/GOOGL.csv')\n",
        "df"
      ],
      "metadata": {
        "colab": {
          "base_uri": "https://localhost:8080/",
          "height": 617
        },
        "id": "Y5uEn4VB-Pgp",
        "outputId": "1195538d-74e3-4961-af7e-b2e8469784b9"
      },
      "execution_count": 4,
      "outputs": [
        {
          "output_type": "execute_result",
          "data": {
            "text/plain": [
              "            Date         Open         High          Low        Close  \\\n",
              "0     2004-08-19    50.050049    52.082081    48.028027    50.220219   \n",
              "1     2004-08-20    50.555557    54.594597    50.300301    54.209209   \n",
              "2     2004-08-23    55.430431    56.796799    54.579578    54.754753   \n",
              "3     2004-08-24    55.675674    55.855858    51.836838    52.487488   \n",
              "4     2004-08-25    52.532532    54.054054    51.991993    53.053055   \n",
              "...          ...          ...          ...          ...          ...   \n",
              "4426  2022-03-18  2668.489990  2724.879883  2645.169922  2722.510010   \n",
              "4427  2022-03-21  2723.270020  2741.000000  2681.850098  2722.030029   \n",
              "4428  2022-03-22  2722.030029  2821.000000  2722.030029  2797.360107   \n",
              "4429  2022-03-23  2774.050049  2791.770020  2756.699951  2765.510010   \n",
              "4430  2022-03-24  2784.000000  2832.379883  2755.010010  2831.439941   \n",
              "\n",
              "        Adj Close    Volume  \n",
              "0       50.220219  44659096  \n",
              "1       54.209209  22834343  \n",
              "2       54.754753  18256126  \n",
              "3       52.487488  15247337  \n",
              "4       53.053055   9188602  \n",
              "...           ...       ...  \n",
              "4426  2722.510010   2223100  \n",
              "4427  2722.030029   1341600  \n",
              "4428  2797.360107   1774800  \n",
              "4429  2765.510010   1257700  \n",
              "4430  2831.439941   1317900  \n",
              "\n",
              "[4431 rows x 7 columns]"
            ],
            "text/html": [
              "\n",
              "  <div id=\"df-1c60af3c-fc60-46fb-8308-b802d9623dbd\" class=\"colab-df-container\">\n",
              "    <div>\n",
              "<style scoped>\n",
              "    .dataframe tbody tr th:only-of-type {\n",
              "        vertical-align: middle;\n",
              "    }\n",
              "\n",
              "    .dataframe tbody tr th {\n",
              "        vertical-align: top;\n",
              "    }\n",
              "\n",
              "    .dataframe thead th {\n",
              "        text-align: right;\n",
              "    }\n",
              "</style>\n",
              "<table border=\"1\" class=\"dataframe\">\n",
              "  <thead>\n",
              "    <tr style=\"text-align: right;\">\n",
              "      <th></th>\n",
              "      <th>Date</th>\n",
              "      <th>Open</th>\n",
              "      <th>High</th>\n",
              "      <th>Low</th>\n",
              "      <th>Close</th>\n",
              "      <th>Adj Close</th>\n",
              "      <th>Volume</th>\n",
              "    </tr>\n",
              "  </thead>\n",
              "  <tbody>\n",
              "    <tr>\n",
              "      <th>0</th>\n",
              "      <td>2004-08-19</td>\n",
              "      <td>50.050049</td>\n",
              "      <td>52.082081</td>\n",
              "      <td>48.028027</td>\n",
              "      <td>50.220219</td>\n",
              "      <td>50.220219</td>\n",
              "      <td>44659096</td>\n",
              "    </tr>\n",
              "    <tr>\n",
              "      <th>1</th>\n",
              "      <td>2004-08-20</td>\n",
              "      <td>50.555557</td>\n",
              "      <td>54.594597</td>\n",
              "      <td>50.300301</td>\n",
              "      <td>54.209209</td>\n",
              "      <td>54.209209</td>\n",
              "      <td>22834343</td>\n",
              "    </tr>\n",
              "    <tr>\n",
              "      <th>2</th>\n",
              "      <td>2004-08-23</td>\n",
              "      <td>55.430431</td>\n",
              "      <td>56.796799</td>\n",
              "      <td>54.579578</td>\n",
              "      <td>54.754753</td>\n",
              "      <td>54.754753</td>\n",
              "      <td>18256126</td>\n",
              "    </tr>\n",
              "    <tr>\n",
              "      <th>3</th>\n",
              "      <td>2004-08-24</td>\n",
              "      <td>55.675674</td>\n",
              "      <td>55.855858</td>\n",
              "      <td>51.836838</td>\n",
              "      <td>52.487488</td>\n",
              "      <td>52.487488</td>\n",
              "      <td>15247337</td>\n",
              "    </tr>\n",
              "    <tr>\n",
              "      <th>4</th>\n",
              "      <td>2004-08-25</td>\n",
              "      <td>52.532532</td>\n",
              "      <td>54.054054</td>\n",
              "      <td>51.991993</td>\n",
              "      <td>53.053055</td>\n",
              "      <td>53.053055</td>\n",
              "      <td>9188602</td>\n",
              "    </tr>\n",
              "    <tr>\n",
              "      <th>...</th>\n",
              "      <td>...</td>\n",
              "      <td>...</td>\n",
              "      <td>...</td>\n",
              "      <td>...</td>\n",
              "      <td>...</td>\n",
              "      <td>...</td>\n",
              "      <td>...</td>\n",
              "    </tr>\n",
              "    <tr>\n",
              "      <th>4426</th>\n",
              "      <td>2022-03-18</td>\n",
              "      <td>2668.489990</td>\n",
              "      <td>2724.879883</td>\n",
              "      <td>2645.169922</td>\n",
              "      <td>2722.510010</td>\n",
              "      <td>2722.510010</td>\n",
              "      <td>2223100</td>\n",
              "    </tr>\n",
              "    <tr>\n",
              "      <th>4427</th>\n",
              "      <td>2022-03-21</td>\n",
              "      <td>2723.270020</td>\n",
              "      <td>2741.000000</td>\n",
              "      <td>2681.850098</td>\n",
              "      <td>2722.030029</td>\n",
              "      <td>2722.030029</td>\n",
              "      <td>1341600</td>\n",
              "    </tr>\n",
              "    <tr>\n",
              "      <th>4428</th>\n",
              "      <td>2022-03-22</td>\n",
              "      <td>2722.030029</td>\n",
              "      <td>2821.000000</td>\n",
              "      <td>2722.030029</td>\n",
              "      <td>2797.360107</td>\n",
              "      <td>2797.360107</td>\n",
              "      <td>1774800</td>\n",
              "    </tr>\n",
              "    <tr>\n",
              "      <th>4429</th>\n",
              "      <td>2022-03-23</td>\n",
              "      <td>2774.050049</td>\n",
              "      <td>2791.770020</td>\n",
              "      <td>2756.699951</td>\n",
              "      <td>2765.510010</td>\n",
              "      <td>2765.510010</td>\n",
              "      <td>1257700</td>\n",
              "    </tr>\n",
              "    <tr>\n",
              "      <th>4430</th>\n",
              "      <td>2022-03-24</td>\n",
              "      <td>2784.000000</td>\n",
              "      <td>2832.379883</td>\n",
              "      <td>2755.010010</td>\n",
              "      <td>2831.439941</td>\n",
              "      <td>2831.439941</td>\n",
              "      <td>1317900</td>\n",
              "    </tr>\n",
              "  </tbody>\n",
              "</table>\n",
              "<p>4431 rows × 7 columns</p>\n",
              "</div>\n",
              "    <div class=\"colab-df-buttons\">\n",
              "\n",
              "  <div class=\"colab-df-container\">\n",
              "    <button class=\"colab-df-convert\" onclick=\"convertToInteractive('df-1c60af3c-fc60-46fb-8308-b802d9623dbd')\"\n",
              "            title=\"Convert this dataframe to an interactive table.\"\n",
              "            style=\"display:none;\">\n",
              "\n",
              "  <svg xmlns=\"http://www.w3.org/2000/svg\" height=\"24px\" viewBox=\"0 -960 960 960\">\n",
              "    <path d=\"M120-120v-720h720v720H120Zm60-500h600v-160H180v160Zm220 220h160v-160H400v160Zm0 220h160v-160H400v160ZM180-400h160v-160H180v160Zm440 0h160v-160H620v160ZM180-180h160v-160H180v160Zm440 0h160v-160H620v160Z\"/>\n",
              "  </svg>\n",
              "    </button>\n",
              "\n",
              "  <style>\n",
              "    .colab-df-container {\n",
              "      display:flex;\n",
              "      gap: 12px;\n",
              "    }\n",
              "\n",
              "    .colab-df-convert {\n",
              "      background-color: #E8F0FE;\n",
              "      border: none;\n",
              "      border-radius: 50%;\n",
              "      cursor: pointer;\n",
              "      display: none;\n",
              "      fill: #1967D2;\n",
              "      height: 32px;\n",
              "      padding: 0 0 0 0;\n",
              "      width: 32px;\n",
              "    }\n",
              "\n",
              "    .colab-df-convert:hover {\n",
              "      background-color: #E2EBFA;\n",
              "      box-shadow: 0px 1px 2px rgba(60, 64, 67, 0.3), 0px 1px 3px 1px rgba(60, 64, 67, 0.15);\n",
              "      fill: #174EA6;\n",
              "    }\n",
              "\n",
              "    .colab-df-buttons div {\n",
              "      margin-bottom: 4px;\n",
              "    }\n",
              "\n",
              "    [theme=dark] .colab-df-convert {\n",
              "      background-color: #3B4455;\n",
              "      fill: #D2E3FC;\n",
              "    }\n",
              "\n",
              "    [theme=dark] .colab-df-convert:hover {\n",
              "      background-color: #434B5C;\n",
              "      box-shadow: 0px 1px 3px 1px rgba(0, 0, 0, 0.15);\n",
              "      filter: drop-shadow(0px 1px 2px rgba(0, 0, 0, 0.3));\n",
              "      fill: #FFFFFF;\n",
              "    }\n",
              "  </style>\n",
              "\n",
              "    <script>\n",
              "      const buttonEl =\n",
              "        document.querySelector('#df-1c60af3c-fc60-46fb-8308-b802d9623dbd button.colab-df-convert');\n",
              "      buttonEl.style.display =\n",
              "        google.colab.kernel.accessAllowed ? 'block' : 'none';\n",
              "\n",
              "      async function convertToInteractive(key) {\n",
              "        const element = document.querySelector('#df-1c60af3c-fc60-46fb-8308-b802d9623dbd');\n",
              "        const dataTable =\n",
              "          await google.colab.kernel.invokeFunction('convertToInteractive',\n",
              "                                                    [key], {});\n",
              "        if (!dataTable) return;\n",
              "\n",
              "        const docLinkHtml = 'Like what you see? Visit the ' +\n",
              "          '<a target=\"_blank\" href=https://colab.research.google.com/notebooks/data_table.ipynb>data table notebook</a>'\n",
              "          + ' to learn more about interactive tables.';\n",
              "        element.innerHTML = '';\n",
              "        dataTable['output_type'] = 'display_data';\n",
              "        await google.colab.output.renderOutput(dataTable, element);\n",
              "        const docLink = document.createElement('div');\n",
              "        docLink.innerHTML = docLinkHtml;\n",
              "        element.appendChild(docLink);\n",
              "      }\n",
              "    </script>\n",
              "  </div>\n",
              "\n",
              "\n",
              "<div id=\"df-3fda9273-8643-4bac-8629-c3b6fd000a4e\">\n",
              "  <button class=\"colab-df-quickchart\" onclick=\"quickchart('df-3fda9273-8643-4bac-8629-c3b6fd000a4e')\"\n",
              "            title=\"Suggest charts\"\n",
              "            style=\"display:none;\">\n",
              "\n",
              "<svg xmlns=\"http://www.w3.org/2000/svg\" height=\"24px\"viewBox=\"0 0 24 24\"\n",
              "     width=\"24px\">\n",
              "    <g>\n",
              "        <path d=\"M19 3H5c-1.1 0-2 .9-2 2v14c0 1.1.9 2 2 2h14c1.1 0 2-.9 2-2V5c0-1.1-.9-2-2-2zM9 17H7v-7h2v7zm4 0h-2V7h2v10zm4 0h-2v-4h2v4z\"/>\n",
              "    </g>\n",
              "</svg>\n",
              "  </button>\n",
              "\n",
              "<style>\n",
              "  .colab-df-quickchart {\n",
              "      --bg-color: #E8F0FE;\n",
              "      --fill-color: #1967D2;\n",
              "      --hover-bg-color: #E2EBFA;\n",
              "      --hover-fill-color: #174EA6;\n",
              "      --disabled-fill-color: #AAA;\n",
              "      --disabled-bg-color: #DDD;\n",
              "  }\n",
              "\n",
              "  [theme=dark] .colab-df-quickchart {\n",
              "      --bg-color: #3B4455;\n",
              "      --fill-color: #D2E3FC;\n",
              "      --hover-bg-color: #434B5C;\n",
              "      --hover-fill-color: #FFFFFF;\n",
              "      --disabled-bg-color: #3B4455;\n",
              "      --disabled-fill-color: #666;\n",
              "  }\n",
              "\n",
              "  .colab-df-quickchart {\n",
              "    background-color: var(--bg-color);\n",
              "    border: none;\n",
              "    border-radius: 50%;\n",
              "    cursor: pointer;\n",
              "    display: none;\n",
              "    fill: var(--fill-color);\n",
              "    height: 32px;\n",
              "    padding: 0;\n",
              "    width: 32px;\n",
              "  }\n",
              "\n",
              "  .colab-df-quickchart:hover {\n",
              "    background-color: var(--hover-bg-color);\n",
              "    box-shadow: 0 1px 2px rgba(60, 64, 67, 0.3), 0 1px 3px 1px rgba(60, 64, 67, 0.15);\n",
              "    fill: var(--button-hover-fill-color);\n",
              "  }\n",
              "\n",
              "  .colab-df-quickchart-complete:disabled,\n",
              "  .colab-df-quickchart-complete:disabled:hover {\n",
              "    background-color: var(--disabled-bg-color);\n",
              "    fill: var(--disabled-fill-color);\n",
              "    box-shadow: none;\n",
              "  }\n",
              "\n",
              "  .colab-df-spinner {\n",
              "    border: 2px solid var(--fill-color);\n",
              "    border-color: transparent;\n",
              "    border-bottom-color: var(--fill-color);\n",
              "    animation:\n",
              "      spin 1s steps(1) infinite;\n",
              "  }\n",
              "\n",
              "  @keyframes spin {\n",
              "    0% {\n",
              "      border-color: transparent;\n",
              "      border-bottom-color: var(--fill-color);\n",
              "      border-left-color: var(--fill-color);\n",
              "    }\n",
              "    20% {\n",
              "      border-color: transparent;\n",
              "      border-left-color: var(--fill-color);\n",
              "      border-top-color: var(--fill-color);\n",
              "    }\n",
              "    30% {\n",
              "      border-color: transparent;\n",
              "      border-left-color: var(--fill-color);\n",
              "      border-top-color: var(--fill-color);\n",
              "      border-right-color: var(--fill-color);\n",
              "    }\n",
              "    40% {\n",
              "      border-color: transparent;\n",
              "      border-right-color: var(--fill-color);\n",
              "      border-top-color: var(--fill-color);\n",
              "    }\n",
              "    60% {\n",
              "      border-color: transparent;\n",
              "      border-right-color: var(--fill-color);\n",
              "    }\n",
              "    80% {\n",
              "      border-color: transparent;\n",
              "      border-right-color: var(--fill-color);\n",
              "      border-bottom-color: var(--fill-color);\n",
              "    }\n",
              "    90% {\n",
              "      border-color: transparent;\n",
              "      border-bottom-color: var(--fill-color);\n",
              "    }\n",
              "  }\n",
              "</style>\n",
              "\n",
              "  <script>\n",
              "    async function quickchart(key) {\n",
              "      const quickchartButtonEl =\n",
              "        document.querySelector('#' + key + ' button');\n",
              "      quickchartButtonEl.disabled = true;  // To prevent multiple clicks.\n",
              "      quickchartButtonEl.classList.add('colab-df-spinner');\n",
              "      try {\n",
              "        const charts = await google.colab.kernel.invokeFunction(\n",
              "            'suggestCharts', [key], {});\n",
              "      } catch (error) {\n",
              "        console.error('Error during call to suggestCharts:', error);\n",
              "      }\n",
              "      quickchartButtonEl.classList.remove('colab-df-spinner');\n",
              "      quickchartButtonEl.classList.add('colab-df-quickchart-complete');\n",
              "    }\n",
              "    (() => {\n",
              "      let quickchartButtonEl =\n",
              "        document.querySelector('#df-3fda9273-8643-4bac-8629-c3b6fd000a4e button');\n",
              "      quickchartButtonEl.style.display =\n",
              "        google.colab.kernel.accessAllowed ? 'block' : 'none';\n",
              "    })();\n",
              "  </script>\n",
              "</div>\n",
              "\n",
              "  <div id=\"id_8a8cf324-5480-408f-b47b-9ace1fabccd2\">\n",
              "    <style>\n",
              "      .colab-df-generate {\n",
              "        background-color: #E8F0FE;\n",
              "        border: none;\n",
              "        border-radius: 50%;\n",
              "        cursor: pointer;\n",
              "        display: none;\n",
              "        fill: #1967D2;\n",
              "        height: 32px;\n",
              "        padding: 0 0 0 0;\n",
              "        width: 32px;\n",
              "      }\n",
              "\n",
              "      .colab-df-generate:hover {\n",
              "        background-color: #E2EBFA;\n",
              "        box-shadow: 0px 1px 2px rgba(60, 64, 67, 0.3), 0px 1px 3px 1px rgba(60, 64, 67, 0.15);\n",
              "        fill: #174EA6;\n",
              "      }\n",
              "\n",
              "      [theme=dark] .colab-df-generate {\n",
              "        background-color: #3B4455;\n",
              "        fill: #D2E3FC;\n",
              "      }\n",
              "\n",
              "      [theme=dark] .colab-df-generate:hover {\n",
              "        background-color: #434B5C;\n",
              "        box-shadow: 0px 1px 3px 1px rgba(0, 0, 0, 0.15);\n",
              "        filter: drop-shadow(0px 1px 2px rgba(0, 0, 0, 0.3));\n",
              "        fill: #FFFFFF;\n",
              "      }\n",
              "    </style>\n",
              "    <button class=\"colab-df-generate\" onclick=\"generateWithVariable('df')\"\n",
              "            title=\"Generate code using this dataframe.\"\n",
              "            style=\"display:none;\">\n",
              "\n",
              "  <svg xmlns=\"http://www.w3.org/2000/svg\" height=\"24px\"viewBox=\"0 0 24 24\"\n",
              "       width=\"24px\">\n",
              "    <path d=\"M7,19H8.4L18.45,9,17,7.55,7,17.6ZM5,21V16.75L18.45,3.32a2,2,0,0,1,2.83,0l1.4,1.43a1.91,1.91,0,0,1,.58,1.4,1.91,1.91,0,0,1-.58,1.4L9.25,21ZM18.45,9,17,7.55Zm-12,3A5.31,5.31,0,0,0,4.9,8.1,5.31,5.31,0,0,0,1,6.5,5.31,5.31,0,0,0,4.9,4.9,5.31,5.31,0,0,0,6.5,1,5.31,5.31,0,0,0,8.1,4.9,5.31,5.31,0,0,0,12,6.5,5.46,5.46,0,0,0,6.5,12Z\"/>\n",
              "  </svg>\n",
              "    </button>\n",
              "    <script>\n",
              "      (() => {\n",
              "      const buttonEl =\n",
              "        document.querySelector('#id_8a8cf324-5480-408f-b47b-9ace1fabccd2 button.colab-df-generate');\n",
              "      buttonEl.style.display =\n",
              "        google.colab.kernel.accessAllowed ? 'block' : 'none';\n",
              "\n",
              "      buttonEl.onclick = () => {\n",
              "        google.colab.notebook.generateWithVariable('df');\n",
              "      }\n",
              "      })();\n",
              "    </script>\n",
              "  </div>\n",
              "\n",
              "    </div>\n",
              "  </div>\n"
            ],
            "application/vnd.google.colaboratory.intrinsic+json": {
              "type": "dataframe",
              "variable_name": "df",
              "summary": "{\n  \"name\": \"df\",\n  \"rows\": 4431,\n  \"fields\": [\n    {\n      \"column\": \"Date\",\n      \"properties\": {\n        \"dtype\": \"object\",\n        \"num_unique_values\": 4431,\n        \"samples\": [\n          \"2014-10-01\",\n          \"2007-12-21\",\n          \"2020-11-03\"\n        ],\n        \"semantic_type\": \"\",\n        \"description\": \"\"\n      }\n    },\n    {\n      \"column\": \"Open\",\n      \"properties\": {\n        \"dtype\": \"number\",\n        \"std\": 645.1187989240972,\n        \"min\": 49.644646,\n        \"max\": 3025.0,\n        \"num_unique_values\": 4314,\n        \"samples\": [\n          1431.0,\n          1136.359985,\n          451.451447\n        ],\n        \"semantic_type\": \"\",\n        \"description\": \"\"\n      }\n    },\n    {\n      \"column\": \"High\",\n      \"properties\": {\n        \"dtype\": \"number\",\n        \"std\": 651.331214669671,\n        \"min\": 50.920921,\n        \"max\": 3030.929932,\n        \"num_unique_values\": 4282,\n        \"samples\": [\n          238.433426,\n          2122.439941,\n          244.54454\n        ],\n        \"semantic_type\": \"\",\n        \"description\": \"\"\n      }\n    },\n    {\n      \"column\": \"Low\",\n      \"properties\": {\n        \"dtype\": \"number\",\n        \"std\": 638.5794882891746,\n        \"min\": 48.028027,\n        \"max\": 2977.97998,\n        \"num_unique_values\": 4323,\n        \"samples\": [\n          148.48349,\n          272.027039,\n          227.122116\n        ],\n        \"semantic_type\": \"\",\n        \"description\": \"\"\n      }\n    },\n    {\n      \"column\": \"Close\",\n      \"properties\": {\n        \"dtype\": \"number\",\n        \"std\": 645.1878060185148,\n        \"min\": 50.055054,\n        \"max\": 2996.77002,\n        \"num_unique_values\": 4352,\n        \"samples\": [\n          190.565567,\n          285.065063,\n          849.47998\n        ],\n        \"semantic_type\": \"\",\n        \"description\": \"\"\n      }\n    },\n    {\n      \"column\": \"Adj Close\",\n      \"properties\": {\n        \"dtype\": \"number\",\n        \"std\": 645.1878060185148,\n        \"min\": 50.055054,\n        \"max\": 2996.77002,\n        \"num_unique_values\": 4352,\n        \"samples\": [\n          190.565567,\n          285.065063,\n          849.47998\n        ],\n        \"semantic_type\": \"\",\n        \"description\": \"\"\n      }\n    },\n    {\n      \"column\": \"Volume\",\n      \"properties\": {\n        \"dtype\": \"number\",\n        \"std\": 7690350,\n        \"min\": 465600,\n        \"max\": 82151167,\n        \"num_unique_values\": 4317,\n        \"samples\": [\n          2338400,\n          4249946,\n          3854342\n        ],\n        \"semantic_type\": \"\",\n        \"description\": \"\"\n      }\n    }\n  ]\n}"
            }
          },
          "metadata": {},
          "execution_count": 4
        }
      ]
    },
    {
      "cell_type": "code",
      "source": [
        "plt.plot(df['Date'], df['Close'])"
      ],
      "metadata": {
        "colab": {
          "base_uri": "https://localhost:8080/",
          "height": 447
        },
        "id": "0bDd_t7A-lhR",
        "outputId": "e73c11b9-aa78-448e-f358-2a5733c69b53"
      },
      "execution_count": 5,
      "outputs": [
        {
          "output_type": "execute_result",
          "data": {
            "text/plain": [
              "[<matplotlib.lines.Line2D at 0x7cb1b52459f0>]"
            ]
          },
          "metadata": {},
          "execution_count": 5
        },
        {
          "output_type": "display_data",
          "data": {
            "text/plain": [
              "<Figure size 640x480 with 1 Axes>"
            ],
            "image/png": "[encoded data removed]"
          },
          "metadata": {}
        }
      ]
    },
    {
      "cell_type": "code",
      "source": [
        "data = df.loc[:, 'Close'].values\n",
        "train_data = data[:len(data)-50]\n",
        "test_data = data[len(train_data):]\n",
        "train_data = train_data.reshape(train_data.shape[0],1)\n",
        "test_data = test_data.reshape(test_data.shape[0],1)"
      ],
      "metadata": {
        "id": "gr93UgQs-r-m"
      },
      "execution_count": 6,
      "outputs": []
    },
    {
      "cell_type": "code",
      "source": [
        "train_data.shape, test_data.shape"
      ],
      "metadata": {
        "colab": {
          "base_uri": "https://localhost:8080/"
        },
        "id": "cVYFXRNo-77J",
        "outputId": "75861a21-1640-411c-ca94-3dcb73b1899d"
      },
      "execution_count": 7,
      "outputs": [
        {
          "output_type": "execute_result",
          "data": {
            "text/plain": [
              "((4381, 1), (50, 1))"
            ]
          },
          "metadata": {},
          "execution_count": 7
        }
      ]
    },
    {
      "cell_type": "code",
      "source": [
        "train_data"
      ],
      "metadata": {
        "colab": {
          "base_uri": "https://localhost:8080/"
        },
        "id": "csc1D2eT--JZ",
        "outputId": "0cdac173-eeeb-461e-a194-a537c5e94faf"
      },
      "execution_count": 8,
      "outputs": [
        {
          "output_type": "execute_result",
          "data": {
            "text/plain": [
              "array([[  50.220219],\n",
              "       [  54.209209],\n",
              "       [  54.754753],\n",
              "       ...,\n",
              "       [2740.340088],\n",
              "       [2773.389893],\n",
              "       [2794.719971]])"
            ]
          },
          "metadata": {},
          "execution_count": 8
        }
      ]
    },
    {
      "cell_type": "code",
      "source": [
        "scaler = MinMaxScaler(feature_range= (0,1))\n",
        "train_scaled = scaler.fit_transform(train_data)"
      ],
      "metadata": {
        "id": "oVptSSZU-_YI"
      },
      "execution_count": 9,
      "outputs": []
    },
    {
      "cell_type": "code",
      "source": [
        "X_train = []\n",
        "y_train = []\n",
        "timesteps = 50\n",
        "\n",
        "for i in range(timesteps, train_scaled.shape[0]):\n",
        "    X_train.append(train_scaled[i-timesteps:i,0])\n",
        "    y_train.append(train_scaled[i,0])\n",
        "\n",
        "X_train, y_train = np.array(X_train), np.array(y_train)\n",
        "X_train = X_train.reshape(X_train.shape[0], X_train.shape[1], 1)"
      ],
      "metadata": {
        "id": "J5rePJBP_Bxk"
      },
      "execution_count": 10,
      "outputs": []
    },
    {
      "cell_type": "code",
      "source": [
        "X_train.shape"
      ],
      "metadata": {
        "colab": {
          "base_uri": "https://localhost:8080/"
        },
        "id": "QOF1Dmj3_JDu",
        "outputId": "a6c4cb4a-08c7-4ba9-8720-ce5ce1eb34d0"
      },
      "execution_count": 11,
      "outputs": [
        {
          "output_type": "execute_result",
          "data": {
            "text/plain": [
              "(4331, 50, 1)"
            ]
          },
          "metadata": {},
          "execution_count": 11
        }
      ]
    },
    {
      "cell_type": "markdown",
      "source": [
        "RNN"
      ],
      "metadata": {
        "id": "GiwMUA2G_Qo-"
      }
    },
    {
      "cell_type": "code",
      "source": [
        "model = Sequential()\n",
        "model.add(SimpleRNN(units = 50, activation='tanh', return_sequences = True, input_shape = (X_train.shape[1], 1)))\n",
        "model.add(Dropout(0.2))\n",
        "\n",
        "# model.add(SimpleRNN(units = 50, activation='tanh', return_sequences = True))\n",
        "# model.add(Dropout(0.2))\n",
        "\n",
        "# model.add(SimpleRNN(units = 50, activation='tanh', return_sequences = True))\n",
        "# model.add(Dropout(0.2))\n",
        "\n",
        "model.add(SimpleRNN(units = 50))\n",
        "model.add(Dropout(0.2))\n",
        "\n",
        "model.add(Dense(units = 1))"
      ],
      "metadata": {
        "id": "zwA_bKl3_Mf6"
      },
      "execution_count": 12,
      "outputs": []
    },
    {
      "cell_type": "code",
      "source": [
        "\n",
        "model.compile(optimizer = 'adam', loss = 'mean_squared_error', metrics=['mae'])\n",
        "\n",
        "model.fit(X_train, y_train, epochs = 10, batch_size = 32)"
      ],
      "metadata": {
        "colab": {
          "base_uri": "https://localhost:8080/"
        },
        "id": "3re3ioy__TK2",
        "outputId": "dc003ab1-b87d-404a-93c4-9050305625c4"
      },
      "execution_count": 13,
      "outputs": [
        {
          "output_type": "stream",
          "name": "stdout",
          "text": [
            "Epoch 1/10\n",
            "136/136 [==============================] - 17s 89ms/step - loss: 0.0223 - mae: 0.0858\n",
            "Epoch 2/10\n",
            "136/136 [==============================] - 11s 77ms/step - loss: 0.0044 - mae: 0.0408\n",
            "Epoch 3/10\n",
            "136/136 [==============================] - 11s 82ms/step - loss: 0.0025 - mae: 0.0305\n",
            "Epoch 4/10\n",
            "136/136 [==============================] - 11s 83ms/step - loss: 0.0021 - mae: 0.0278\n",
            "Epoch 5/10\n",
            "136/136 [==============================] - 11s 82ms/step - loss: 0.0017 - mae: 0.0240\n",
            "Epoch 6/10\n",
            "136/136 [==============================] - 11s 84ms/step - loss: 0.0015 - mae: 0.0235\n",
            "Epoch 7/10\n",
            "136/136 [==============================] - 12s 90ms/step - loss: 0.0013 - mae: 0.0212\n",
            "Epoch 8/10\n",
            "136/136 [==============================] - 14s 104ms/step - loss: 0.0011 - mae: 0.0202\n",
            "Epoch 9/10\n",
            "136/136 [==============================] - 11s 83ms/step - loss: 9.5667e-04 - mae: 0.0185\n",
            "Epoch 10/10\n",
            "136/136 [==============================] - 11s 82ms/step - loss: 8.4310e-04 - mae: 0.0176\n"
          ]
        },
        {
          "output_type": "execute_result",
          "data": {
            "text/plain": [
              "<keras.src.callbacks.History at 0x7cb1b0e00070>"
            ]
          },
          "metadata": {},
          "execution_count": 13
        }
      ]
    },
    {
      "cell_type": "code",
      "source": [
        "\n",
        "inputs = scaler.transform(test_data)"
      ],
      "metadata": {
        "id": "u2DVLibm_YTc"
      },
      "execution_count": 14,
      "outputs": []
    },
    {
      "cell_type": "code",
      "source": [
        "\n",
        "inputs.shape"
      ],
      "metadata": {
        "colab": {
          "base_uri": "https://localhost:8080/"
        },
        "id": "VgVYhL2__-3c",
        "outputId": "15ebd5c9-f4da-4093-a9f4-cef3e47a1555"
      },
      "execution_count": 15,
      "outputs": [
        {
          "output_type": "execute_result",
          "data": {
            "text/plain": [
              "(50, 1)"
            ]
          },
          "metadata": {},
          "execution_count": 15
        }
      ]
    },
    {
      "cell_type": "code",
      "source": [
        "\n",
        "predicted_data=model.predict(inputs)\n",
        "predicted_data=scaler.inverse_transform(predicted_data)"
      ],
      "metadata": {
        "colab": {
          "base_uri": "https://localhost:8080/"
        },
        "id": "X1m5ffRiACnQ",
        "outputId": "fa939fa9-f758-453a-d973-1cc3194aa500"
      },
      "execution_count": 19,
      "outputs": [
        {
          "output_type": "stream",
          "name": "stdout",
          "text": [
            "2/2 [==============================] - 0s 9ms/step\n"
          ]
        }
      ]
    },
    {
      "cell_type": "code",
      "source": [
        "predicted_data"
      ],
      "metadata": {
        "colab": {
          "base_uri": "https://localhost:8080/"
        },
        "id": "sSvsShmDAD5r",
        "outputId": "c4f621c7-1733-48c4-a549-c3d2e27b3d8f"
      },
      "execution_count": 20,
      "outputs": [
        {
          "output_type": "execute_result",
          "data": {
            "text/plain": [
              "array([[1437.306 ],\n",
              "       [1415.7523],\n",
              "       [1422.5336],\n",
              "       [1396.0593],\n",
              "       [1389.3397],\n",
              "       [1375.5262],\n",
              "       [1352.8892],\n",
              "       [1356.3599],\n",
              "       [1326.6252],\n",
              "       [1344.3025],\n",
              "       [1342.5509],\n",
              "       [1375.859 ],\n",
              "       [1390.7657],\n",
              "       [1408.5869],\n",
              "       [1486.795 ],\n",
              "       [1449.8483],\n",
              "       [1451.3806],\n",
              "       [1420.4132],\n",
              "       [1421.9153],\n",
              "       [1438.5278],\n",
              "       [1416.003 ],\n",
              "       [1382.9752],\n",
              "       [1392.462 ],\n",
              "       [1400.7089],\n",
              "       [1409.3016],\n",
              "       [1369.649 ],\n",
              "       [1353.2842],\n",
              "       [1348.7603],\n",
              "       [1331.6533],\n",
              "       [1370.812 ],\n",
              "       [1384.3264],\n",
              "       [1388.8857],\n",
              "       [1381.2876],\n",
              "       [1385.1813],\n",
              "       [1380.0504],\n",
              "       [1364.8076],\n",
              "       [1322.3372],\n",
              "       [1327.9307],\n",
              "       [1376.3864],\n",
              "       [1368.8112],\n",
              "       [1349.1979],\n",
              "       [1319.0413],\n",
              "       [1344.0337],\n",
              "       [1375.3201],\n",
              "       [1379.5883],\n",
              "       [1397.0306],\n",
              "       [1396.8479],\n",
              "       [1425.4722],\n",
              "       [1413.3864],\n",
              "       [1438.3765]], dtype=float32)"
            ]
          },
          "metadata": {},
          "execution_count": 20
        }
      ]
    },
    {
      "cell_type": "code",
      "source": [
        "plt.figure(figsize=(10,7), dpi=80, facecolor='w', edgecolor='k')\n",
        "plt.plot(test_data,color=\"orange\",label=\"Real value\")\n",
        "plt.plot(predicted_data, color=\"c\",label=\"RNN predicted result\")\n",
        "plt.legend()\n",
        "plt.xlabel(\"Days\")\n",
        "plt.ylabel(\"Values\")\n",
        "plt.grid(True)\n",
        "plt.show()"
      ],
      "metadata": {
        "colab": {
          "base_uri": "https://localhost:8080/",
          "height": 467
        },
        "id": "6RraVZ0PAwBS",
        "outputId": "6d2661dc-6c27-482b-d9c3-31b73a4896ae"
      },
      "execution_count": 21,
      "outputs": [
        {
          "output_type": "display_data",
          "data": {
            "text/plain": [
              "<Figure size 800x560 with 1 Axes>"
            ],
            "image/png": "[encoded data removed]"
          },
          "metadata": {}
        }
      ]
    },
    {
      "cell_type": "code",
      "source": [
        "model = Sequential()\n",
        "model.add(LSTM(10, input_shape=(None,1)))\n",
        "model.add(Dense(1))"
      ],
      "metadata": {
        "id": "1pq7mVhwAzGs"
      },
      "execution_count": 22,
      "outputs": []
    },
    {
      "cell_type": "code",
      "source": [
        "model.compile(loss=\"mean_squared_error\",optimizer='Adam', metrics=['mae'])\n",
        "model.fit(X_train,y_train,epochs=50, batch_size=1)"
      ],
      "metadata": {
        "colab": {
          "base_uri": "https://localhost:8080/"
        },
        "id": "F5H3nam7A1Zh",
        "outputId": "7b42272a-34a1-4628-887e-6cd641ce9b3d"
      },
      "execution_count": 23,
      "outputs": [
        {
          "output_type": "stream",
          "name": "stdout",
          "text": [
            "Epoch 1/50\n",
            "4331/4331 [==============================] - 25s 5ms/step - loss: 0.0011 - mae: 0.0130\n",
            "Epoch 2/50\n",
            "4331/4331 [==============================] - 22s 5ms/step - loss: 1.1141e-04 - mae: 0.0070\n",
            "Epoch 3/50\n",
            "4331/4331 [==============================] - 21s 5ms/step - loss: 9.4136e-05 - mae: 0.0064\n",
            "Epoch 4/50\n",
            "4331/4331 [==============================] - 22s 5ms/step - loss: 7.7717e-05 - mae: 0.0058\n",
            "Epoch 5/50\n",
            "4331/4331 [==============================] - 21s 5ms/step - loss: 6.1356e-05 - mae: 0.0053\n",
            "Epoch 6/50\n",
            "4331/4331 [==============================] - 22s 5ms/step - loss: 5.3077e-05 - mae: 0.0048\n",
            "Epoch 7/50\n",
            "4331/4331 [==============================] - 23s 5ms/step - loss: 5.0817e-05 - mae: 0.0047\n",
            "Epoch 8/50\n",
            "4331/4331 [==============================] - 20s 5ms/step - loss: 4.8212e-05 - mae: 0.0046\n",
            "Epoch 9/50\n",
            "4331/4331 [==============================] - 22s 5ms/step - loss: 4.5783e-05 - mae: 0.0044\n",
            "Epoch 10/50\n",
            "4331/4331 [==============================] - 22s 5ms/step - loss: 4.3221e-05 - mae: 0.0043\n",
            "Epoch 11/50\n",
            "4331/4331 [==============================] - 22s 5ms/step - loss: 4.5117e-05 - mae: 0.0044\n",
            "Epoch 12/50\n",
            "4331/4331 [==============================] - 20s 5ms/step - loss: 4.4663e-05 - mae: 0.0042\n",
            "Epoch 13/50\n",
            "4331/4331 [==============================] - 21s 5ms/step - loss: 4.1595e-05 - mae: 0.0042\n",
            "Epoch 14/50\n",
            "4331/4331 [==============================] - 21s 5ms/step - loss: 3.9700e-05 - mae: 0.0040\n",
            "Epoch 15/50\n",
            "4331/4331 [==============================] - 20s 5ms/step - loss: 3.8622e-05 - mae: 0.0040\n",
            "Epoch 16/50\n",
            "4331/4331 [==============================] - 21s 5ms/step - loss: 4.0100e-05 - mae: 0.0041\n",
            "Epoch 17/50\n",
            "4331/4331 [==============================] - 21s 5ms/step - loss: 4.1644e-05 - mae: 0.0042\n",
            "Epoch 18/50\n",
            "4331/4331 [==============================] - 20s 5ms/step - loss: 3.7495e-05 - mae: 0.0040\n",
            "Epoch 19/50\n",
            "4331/4331 [==============================] - 22s 5ms/step - loss: 3.8872e-05 - mae: 0.0039\n",
            "Epoch 20/50\n",
            "4331/4331 [==============================] - 21s 5ms/step - loss: 3.9545e-05 - mae: 0.0040\n",
            "Epoch 21/50\n",
            "4331/4331 [==============================] - 21s 5ms/step - loss: 4.1355e-05 - mae: 0.0040\n",
            "Epoch 22/50\n",
            "4331/4331 [==============================] - 21s 5ms/step - loss: 3.6593e-05 - mae: 0.0039\n",
            "Epoch 23/50\n",
            "4331/4331 [==============================] - 21s 5ms/step - loss: 4.0120e-05 - mae: 0.0040\n",
            "Epoch 24/50\n",
            "4331/4331 [==============================] - 21s 5ms/step - loss: 3.9250e-05 - mae: 0.0040\n",
            "Epoch 25/50\n",
            "4331/4331 [==============================] - 21s 5ms/step - loss: 4.0323e-05 - mae: 0.0041\n",
            "Epoch 26/50\n",
            "4331/4331 [==============================] - 21s 5ms/step - loss: 4.0864e-05 - mae: 0.0041\n",
            "Epoch 27/50\n",
            "4331/4331 [==============================] - 21s 5ms/step - loss: 3.7288e-05 - mae: 0.0039\n",
            "Epoch 28/50\n",
            "4331/4331 [==============================] - 20s 5ms/step - loss: 3.7490e-05 - mae: 0.0038\n",
            "Epoch 29/50\n",
            "4331/4331 [==============================] - 21s 5ms/step - loss: 3.6496e-05 - mae: 0.0038\n",
            "Epoch 30/50\n",
            "4331/4331 [==============================] - 21s 5ms/step - loss: 3.7694e-05 - mae: 0.0039\n",
            "Epoch 31/50\n",
            "4331/4331 [==============================] - 20s 5ms/step - loss: 3.7462e-05 - mae: 0.0039\n",
            "Epoch 32/50\n",
            "4331/4331 [==============================] - 23s 5ms/step - loss: 3.8819e-05 - mae: 0.0039\n",
            "Epoch 33/50\n",
            "4331/4331 [==============================] - 21s 5ms/step - loss: 3.7810e-05 - mae: 0.0039\n",
            "Epoch 34/50\n",
            "4331/4331 [==============================] - 21s 5ms/step - loss: 3.7079e-05 - mae: 0.0038\n",
            "Epoch 35/50\n",
            "4331/4331 [==============================] - 21s 5ms/step - loss: 3.7846e-05 - mae: 0.0039\n",
            "Epoch 36/50\n",
            "4331/4331 [==============================] - 21s 5ms/step - loss: 3.5758e-05 - mae: 0.0038\n",
            "Epoch 37/50\n",
            "4331/4331 [==============================] - 21s 5ms/step - loss: 3.7041e-05 - mae: 0.0038\n",
            "Epoch 38/50\n",
            "4331/4331 [==============================] - 20s 5ms/step - loss: 3.7540e-05 - mae: 0.0039\n",
            "Epoch 39/50\n",
            "4331/4331 [==============================] - 21s 5ms/step - loss: 3.6355e-05 - mae: 0.0038\n",
            "Epoch 40/50\n",
            "4331/4331 [==============================] - 21s 5ms/step - loss: 3.6685e-05 - mae: 0.0038\n",
            "Epoch 41/50\n",
            "4331/4331 [==============================] - 20s 5ms/step - loss: 3.6515e-05 - mae: 0.0038\n",
            "Epoch 42/50\n",
            "4331/4331 [==============================] - 21s 5ms/step - loss: 3.7930e-05 - mae: 0.0038\n",
            "Epoch 43/50\n",
            "4331/4331 [==============================] - 21s 5ms/step - loss: 3.5916e-05 - mae: 0.0037\n",
            "Epoch 44/50\n",
            "4331/4331 [==============================] - 20s 5ms/step - loss: 3.6695e-05 - mae: 0.0038\n",
            "Epoch 45/50\n",
            "4331/4331 [==============================] - 21s 5ms/step - loss: 3.7431e-05 - mae: 0.0038\n",
            "Epoch 46/50\n",
            "4331/4331 [==============================] - 21s 5ms/step - loss: 3.5705e-05 - mae: 0.0037\n",
            "Epoch 47/50\n",
            "4331/4331 [==============================] - 21s 5ms/step - loss: 3.7447e-05 - mae: 0.0038\n",
            "Epoch 48/50\n",
            "4331/4331 [==============================] - 21s 5ms/step - loss: 3.6474e-05 - mae: 0.0038\n",
            "Epoch 49/50\n",
            "4331/4331 [==============================] - 21s 5ms/step - loss: 3.5592e-05 - mae: 0.0037\n",
            "Epoch 50/50\n",
            "4331/4331 [==============================] - 21s 5ms/step - loss: 3.5837e-05 - mae: 0.0038\n"
          ]
        },
        {
          "output_type": "execute_result",
          "data": {
            "text/plain": [
              "<keras.src.callbacks.History at 0x7cb1b0e12170>"
            ]
          },
          "metadata": {},
          "execution_count": 23
        }
      ]
    },
    {
      "cell_type": "markdown",
      "source": [
        "LSTM\n"
      ],
      "metadata": {
        "id": "jLnBU7MoBWsp"
      }
    },
    {
      "cell_type": "code",
      "source": [
        "inputs = scaler.transform(test_data)"
      ],
      "metadata": {
        "id": "c3xvG3hGDamY"
      },
      "execution_count": 25,
      "outputs": []
    },
    {
      "cell_type": "code",
      "source": [
        "predicted_data=model.predict(inputs)\n",
        "predicted_data=scaler.inverse_transform(predicted_data)"
      ],
      "metadata": {
        "colab": {
          "base_uri": "https://localhost:8080/"
        },
        "id": "wUc4ujP_FG6I",
        "outputId": "66f71958-e635-402f-c88e-62b48d6368c0"
      },
      "execution_count": 26,
      "outputs": [
        {
          "output_type": "stream",
          "name": "stdout",
          "text": [
            "2/2 [==============================] - 0s 6ms/step\n"
          ]
        }
      ]
    },
    {
      "cell_type": "code",
      "source": [
        "predicted_data"
      ],
      "metadata": {
        "colab": {
          "base_uri": "https://localhost:8080/"
        },
        "id": "hNF9GunZFJOT",
        "outputId": "03d56c77-be40-459a-fd35-fb8579f05556"
      },
      "execution_count": 27,
      "outputs": [
        {
          "output_type": "execute_result",
          "data": {
            "text/plain": [
              "array([[574.92773],\n",
              "       [564.45776],\n",
              "       [567.75085],\n",
              "       [554.9005 ],\n",
              "       [551.6413 ],\n",
              "       [544.9448 ],\n",
              "       [533.9795 ],\n",
              "       [535.6598 ],\n",
              "       [521.272  ],\n",
              "       [529.82324],\n",
              "       [528.9755 ],\n",
              "       [545.1059 ],\n",
              "       [552.333  ],\n",
              "       [560.9794 ],\n",
              "       [599.0049 ],\n",
              "       [581.02484],\n",
              "       [581.76996],\n",
              "       [566.72095],\n",
              "       [567.45056],\n",
              "       [575.52155],\n",
              "       [564.5795 ],\n",
              "       [548.55536],\n",
              "       [553.15576],\n",
              "       [557.15625],\n",
              "       [561.32623],\n",
              "       [542.0967 ],\n",
              "       [534.1708 ],\n",
              "       [531.98083],\n",
              "       [523.7035 ],\n",
              "       [542.6601 ],\n",
              "       [549.2105 ],\n",
              "       [551.4212 ],\n",
              "       [547.73724],\n",
              "       [549.6249 ],\n",
              "       [547.1374 ],\n",
              "       [539.7512 ],\n",
              "       [519.19885],\n",
              "       [521.9034 ],\n",
              "       [545.3615 ],\n",
              "       [541.6908 ],\n",
              "       [532.19257],\n",
              "       [517.6055 ],\n",
              "       [529.6932 ],\n",
              "       [544.8448 ],\n",
              "       [546.91345],\n",
              "       [555.37177],\n",
              "       [555.2831 ],\n",
              "       [569.17804],\n",
              "       [563.3091 ],\n",
              "       [575.448  ]], dtype=float32)"
            ]
          },
          "metadata": {},
          "execution_count": 27
        }
      ]
    },
    {
      "cell_type": "code",
      "source": [
        "plt.figure(figsize=(10,7), dpi=80, facecolor='w', edgecolor='k')\n",
        "plt.plot(test_data,color=\"orange\",label=\"Real value\")\n",
        "plt.plot(predicted_data, color=\"c\",label=\"RNN predicted result\")\n",
        "plt.legend()\n",
        "plt.xlabel(\"Days\")\n",
        "plt.ylabel(\"Values\")\n",
        "plt.grid(True)\n",
        "plt.show()"
      ],
      "metadata": {
        "id": "9k6GPRpEFMsp",
        "outputId": "1b4abe44-2667-40e2-818d-a9a8f2d59fee",
        "colab": {
          "base_uri": "https://localhost:8080/",
          "height": 467
        }
      },
      "execution_count": 28,
      "outputs": [
        {
          "output_type": "display_data",
          "data": {
            "text/plain": [
              "<Figure size 800x560 with 1 Axes>"
            ],
            "image/png": "[encoded data removed]"
          },
          "metadata": {}
        }
      ]
    }
  ]
}